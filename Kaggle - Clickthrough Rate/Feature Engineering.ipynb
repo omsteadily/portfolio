{
 "cells": [
  {
   "cell_type": "markdown",
   "metadata": {},
   "source": [
    "# Feature Engineering\n",
    "Based on our observations from the Exploratory Data Analysis, some of the features need to be transformed before they're ready to be run through the Logistic Regression."
   ]
  },
  {
   "cell_type": "code",
   "execution_count": null,
   "metadata": {},
   "outputs": [],
   "source": [
    "from pyspark.sql.functions import row_number, monotonically_increasing_id\n",
    "from pyspark.sql import Window\n",
    "from pyspark.sql import SQLContext\n",
    "from pyspark.sql import types\n",
    "from pyspark.sql.functions import isnan, when, count, col\n",
    "from pyspark.sql.types import StructType, StructField, IntegerType, StringType"
   ]
  },
  {
   "cell_type": "markdown",
   "metadata": {},
   "source": [
    "## Daypart\n",
    "\n",
    "The README specifies that the records are in chronological order.  Can we figure out a way to capitalize on this?"
   ]
  },
  {
   "cell_type": "code",
   "execution_count": 146,
   "metadata": {},
   "outputs": [
    {
     "data": {
      "text/plain": [
       "6042135"
      ]
     },
     "execution_count": 146,
     "metadata": {},
     "output_type": "execute_result"
    }
   ],
   "source": [
    "# The test set covers 1 day.  How many records are there in it?\n",
    "test_RDD = sc.textFile(\"gs://w261-final-hoky/data/test.txt\")\n",
    "test_RDD.count()"
   ]
  },
  {
   "cell_type": "markdown",
   "metadata": {},
   "source": [
    "So for one day of ad clicks in chronological order, we can see that it's about 6m records.  Now if we pull just the click column from the train set, we can look to see if there's a recurring pattern every ~6m records (obviously it will vary a bit day-to-day)."
   ]
  },
  {
   "cell_type": "code",
   "execution_count": 147,
   "metadata": {},
   "outputs": [],
   "source": [
    "days_RDD = train_RDD.map(lambda x: x.split(\"\\t\")) \\\n",
    "                    .flatMap(lambda x: x[0])\n",
    "\n",
    "days = days_RDD.collect()\n",
    "days = list(map(int, days))"
   ]
  },
  {
   "cell_type": "markdown",
   "metadata": {},
   "source": [
    "Now we have a list of ~45m 0s and 1s, representing clicks.  Create a function to bin them together so we can plot them."
   ]
  },
  {
   "cell_type": "code",
   "execution_count": 148,
   "metadata": {},
   "outputs": [],
   "source": [
    "def binplot(clicks, bins):\n",
    "    binlist = []\n",
    "    binsize = int(len(clicks)/bins)\n",
    "    for x in range(bins):\n",
    "        thisbin = np.sum(clicks[x*binsize:(x+1)*binsize])\n",
    "        binlist.append(thisbin)\n",
    "    return binlist"
   ]
  },
  {
   "cell_type": "code",
   "execution_count": 149,
   "metadata": {},
   "outputs": [
    {
     "data": {
      "image/png": "[encoded data removed]",
      "text/plain": [
       "<Figure size 432x288 with 1 Axes>"
      ]
     },
     "metadata": {},
     "output_type": "display_data"
    },
    {
     "data": {
      "text/plain": [
       "<Figure size 1440x1280 with 0 Axes>"
      ]
     },
     "metadata": {},
     "output_type": "display_data"
    }
   ],
   "source": [
    "# Putting the clicks into 450 bins will show us groups of ~10k rows per bar\n",
    "bin24 = binplot(days, 450)\n",
    "plt.bar(x=np.arange(len(bin24)), height=bin24)\n",
    "plt.figure(figsize=(18, 16), dpi= 80, facecolor='w', edgecolor='k')\n",
    "plt.show()"
   ]
  },
  {
   "cell_type": "markdown",
   "metadata": {},
   "source": [
    "Pulling the smallest bins, we can combine this with visual inspection to figure out the daily breakpoints"
   ]
  },
  {
   "cell_type": "code",
   "execution_count": 150,
   "metadata": {},
   "outputs": [],
   "source": [
    "sorted_bin = bin24.copy()\n",
    "sorted_bin.sort()\n",
    "bottom = sorted_bin[:70]\n",
    "indices = []\n",
    "for x in bottom:\n",
    "    indices.append(bin24.index(x))\n",
    "indices.sort()"
   ]
  },
  {
   "cell_type": "markdown",
   "metadata": {},
   "source": [
    "From this, we can discern the approximate breakpoints from one day to another: [63, 122, 189, 258, 324, 389].  Now we can load the data as a dataframe and create the daypart column."
   ]
  },
  {
   "cell_type": "code",
   "execution_count": 3,
   "metadata": {},
   "outputs": [],
   "source": [
    "# Load data into dataframe\n",
    "train_df = spark.read.option(\"header\", \"false\").parquet(\"gs://w261-final-hoky/data/scrubbed_train_data/\")"
   ]
  },
  {
   "cell_type": "code",
   "execution_count": 5,
   "metadata": {},
   "outputs": [
    {
     "data": {
      "text/plain": [
       "[Row(label=0, I1=0, I2=1, I3=292, I4=0, I5=4233, I6=612, I7=53, I8=9, I9=119, I10=0, I11=7, I12=0, I13=8, C1='05db9164', C2='207b2d81', C3='d52980aa', C4='b66d15e3', C5='4cf72387', C6='7e0ccccf', C7='07d03e2a', C8='ba7cbdc6', C9='a73ee510', C10='2462946f', C11='7f8ffe57', C12='b519c595', C13='46f42a63', C14='07d13a8f', C15='0c67c4ca', C16='7c8ae841', C17='27c07bd6', C18='395856b0', C19='21ddcdc9', C20='a458ea53', C21='605305ee', C22='C22_no_value', C23='32c7478e', C24='f090fae7', C25='001f3601', C26='fb1dfe3b')]"
      ]
     },
     "execution_count": 5,
     "metadata": {},
     "output_type": "execute_result"
    }
   ],
   "source": [
    "train_df.take(1)"
   ]
  },
  {
   "cell_type": "code",
   "execution_count": 6,
   "metadata": {},
   "outputs": [],
   "source": [
    "# Add an index column with sequential ID\n",
    "indexed_df = train_df.withColumn(\"index\", row_number().over(Window.orderBy(monotonically_increasing_id()))-1).cache()"
   ]
  },
  {
   "cell_type": "code",
   "execution_count": 7,
   "metadata": {},
   "outputs": [],
   "source": [
    "def make_time(idx):\n",
    "    '''Compare the index value to a set of breakpoints to assign a daypart to each record'''\n",
    "    division = 24 # Number of partitions for each day\n",
    "    breakpoints = [0, 63, 122, 189, 258, 324, 389, 458.40617]\n",
    "    for b in range(len(breakpoints)):\n",
    "        try:\n",
    "            # How many rows should be in each daypart?\n",
    "            increment = ((breakpoints[b+1]*100000)-(breakpoints[b]*100000))/division\n",
    "            # Establish the breakpoints for the day\n",
    "            sub_breakpoints = [(breakpoints[b]*100000)+(i*increment) for i in range(division)]\n",
    "            sub_breakpoints.append(breakpoints[b+1]*100000)\n",
    "\n",
    "            if idx > (breakpoints[b]*100000) and idx <= (breakpoints[b+1]*100000):\n",
    "                print(sub_breakpoints)\n",
    "                # We're in a day, now assign the daypart\n",
    "                for b2 in range(len(sub_breakpoints)):\n",
    "                    if idx > sub_breakpoints[b2] and idx <= sub_breakpoints[b2+1]:\n",
    "                        return b2\n",
    "        except IndexError:\n",
    "            return breakpoints[b]*100000\n",
    "\n",
    "from pyspark.sql.functions import udf\n",
    "from pyspark.sql.types import IntegerType\n",
    "maketime_udf = udf(lambda z: make_time(z), IntegerType())"
   ]
  },
  {
   "cell_type": "code",
   "execution_count": null,
   "metadata": {},
   "outputs": [],
   "source": [
    "# Apply UDF to the dataset, and write out a modified dataset\n",
    "start = time.time()\n",
    "daypart_df = indexed_df.withColumn(\"daypart\", maketime_udf('index')).cache()\n",
    "daypart_df.write.format(\"parquet\").save(\"gs://w261-final-hoky/data/daypart_train_data/\")\n",
    "print(f\"... completed job in {time.time() - start} seconds\")"
   ]
  },
  {
   "cell_type": "markdown",
   "metadata": {},
   "source": [
    "## NAs, Binarization, Standardization"
   ]
  },
  {
   "cell_type": "code",
   "execution_count": null,
   "metadata": {},
   "outputs": [],
   "source": []
  }
 ],
 "metadata": {
  "kernelspec": {
   "display_name": "PySpark",
   "language": "python",
   "name": "pyspark"
  },
  "language_info": {
   "codemirror_mode": {
    "name": "ipython",
    "version": 3
   },
   "file_extension": ".py",
   "mimetype": "text/x-python",
   "name": "python",
   "nbconvert_exporter": "python",
   "pygments_lexer": "ipython3",
   "version": "3.6.5"
  }
 },
 "nbformat": 4,
 "nbformat_minor": 2
}